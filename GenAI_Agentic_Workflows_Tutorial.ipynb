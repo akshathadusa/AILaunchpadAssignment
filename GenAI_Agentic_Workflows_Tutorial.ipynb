{
  "nbformat": 4,
  "nbformat_minor": 0,
  "metadata": {
    "colab": {
      "provenance": [],
      "toc_visible": true
    },
    "kernelspec": {
      "name": "python3",
      "display_name": "Python 3"
    },
    "language_info": {
      "name": "python"
    }
  },
  "cells": [
    {
      "cell_type": "markdown",
      "source": [
        "# Introduction\n",
        "Agentic workflows represent a paradigm shift in how we interact with generative AI models. Instead of simply prompting a model for a single output, agentic workflows empower the model to autonomously perform a series of actions, make decisions, and achieve a defined goal. This tutorial provides a comprehensive overview of agentic workflows, their benefits, challenges, and implementation strategies.\n",
        "\n",
        "![Agentic Worflows](https://www.everestgrp.com/wp-content/uploads/2024/05/Slide1.jpg)\n",
        "[Image Source](https://www.everestgrp.com/wp-content/uploads/2024/05/Slide1.jpg)\n",
        "\n",
        "## Core Components of an Agentic Workflow\n",
        "\n",
        "1. **Goal Definition:**  \n",
        "   Clearly articulate the desired outcome or objective. This forms the foundation for all subsequent actions. Examples include: \"Write a blog post about the latest advancements in AI,\" \"Generate a marketing campaign for a new product,\" or \"Create a comprehensive financial report.\"\n",
        "\n",
        "2. **Action Planning:**  \n",
        "   Decompose the goal into smaller, manageable actions. This might involve brainstorming, outlining, researching, writing, and editing. The AI agent needs a plan to proceed.\n",
        "\n",
        "3. **Action Execution:**  \n",
        "   Utilize generative AI models and other tools to execute each planned action. This might involve invoking large language models (LLMs) for text generation, image generation models for visual content, or APIs for data retrieval.\n",
        "\n",
        "4. **Decision Making:**  \n",
        "   The agent must decide which action to take next, often based on the results of previous actions. This can involve evaluating intermediate outputs, incorporating feedback, or adapting to unexpected situations.\n",
        "\n",
        "5. **Monitoring and Evaluation:**  \n",
        "   Continuously monitor the progress and evaluate the quality of the generated content. This allows for corrective actions or adjustments to the workflow.\n",
        "\n",
        "6. **Feedback Loop:**  \n",
        "   Incorporate feedback mechanisms to refine the agent's behavior and improve performance over time. This might involve human feedback or automated evaluation metrics.\n",
        "\n",
        "## Implementation Strategies\n",
        "\n",
        "- **Rule-Based Systems:**  \n",
        "  Define a strict set of rules that dictate the agent's behavior. While simple to implement, they lack flexibility and struggle with complex or unpredictable scenarios.\n",
        "\n",
        "- **Reinforcement Learning:**  \n",
        "  Train an AI agent to optimize its actions based on rewards and penalties. This approach can lead to more adaptive and efficient workflows, but requires significant training data and computational resources.\n",
        "\n",
        "- **Hybrid Approaches:**  \n",
        "  Combine rule-based systems with reinforcement learning or other machine learning techniques to leverage the strengths of both methods. This allows for greater flexibility while still providing some level of control.\n",
        "\n",
        "## Tools and Technologies\n",
        "\n",
        "- **Large Language Models (LLMs):**  \n",
        "  Form the core of many agentic workflows, capable of generating text, summarizing information, translating languages, and answering questions. Examples include GPT-3, GPT-4, PaLM 2.\n",
        "\n",
        "- **Prompt Engineering:**  \n",
        "  Crafting effective prompts is crucial for guiding the AI agent's actions.\n",
        "\n",
        "- **Workflow Automation Platforms:**  \n",
        "  Tools like LangChain or LlamaIndex can streamline the implementation of complex workflows.\n",
        "\n",
        "- **Datastores:**  \n",
        "  Efficiently store and retrieve information needed during the workflow execution.\n",
        "\n",
        "## Benefits of Agentic Workflows\n",
        "\n",
        "- **Automation:**  \n",
        "  Automate repetitive and time-consuming tasks.\n",
        "\n",
        "- **Efficiency:**  \n",
        "  Optimize workflows for faster and more effective content creation.\n",
        "\n",
        "- **Scalability:**  \n",
        "  Easily scale workflows to handle large volumes of requests.\n",
        "\n",
        "- **Adaptability:**  \n",
        "  Adapt workflows to changing circumstances and user feedback.\n",
        "\n",
        "## Challenges of Agentic Workflows\n",
        "\n",
        "- **Complexity:**  \n",
        "  Designing and implementing complex agentic workflows can be challenging.\n",
        "\n",
        "- **Control:**  \n",
        "  Maintaining control over the agent's behavior is crucial to ensure desired outputs.\n",
        "\n",
        "- **Bias and Fairness:**  \n",
        "  Generative AI models can perpetuate biases present in their training data, affecting the fairness of outputs.\n"
      ],
      "metadata": {
        "id": "iD80gVPYWqxZ"
      }
    },
    {
      "cell_type": "markdown",
      "source": [
        "#What is an Agent?\n",
        "\n",
        "In the context of generative AI, an agent is an autonomous entity capable of performing a series of actions to achieve a defined goal. Unlike traditional AI models that generate a single output based on a given prompt, agents operate within an environment and interact with it to accomplish their objectives.  Think of them as automated workflows with decision-making capabilities.\n",
        "\n",
        "#Types of Agents\n",
        "\n",
        "Agents can be categorized based on their architecture, learning methods, and functionalities:\n",
        "\n",
        "1. **Rule-Based Agents:** These agents operate based on a predefined set of rules.  They are deterministic and follow a strict sequence of actions. They are simple to implement but inflexible and struggle with unforeseen circumstances.  They are good for scenarios where the environment and goals are well-defined and predictable.\n",
        "\n",
        "2. **Reinforcement Learning Agents:** These agents learn to make decisions through trial-and-error interactions with the environment. They are rewarded for taking actions that lead to desired outcomes and penalized for undesirable actions.  They are highly adaptable but require extensive training and computational resources.\n",
        "\n",
        "3. **Hybrid Agents:** Combining rule-based systems with reinforcement learning or other machine learning techniques creates hybrid agents. They leverage the strengths of both approaches to achieve greater flexibility while maintaining some level of control.\n",
        "\n",
        "4. **Retrieval-Augmented Agents:** These agents leverage external knowledge sources like databases or document stores.  They can access and process information to inform their actions and decisions.  This boosts their capabilities beyond their own internal knowledge.\n",
        "\n",
        "5. **Planning Agents:** These agents perform an initial planning phase before executing actions.  They consider possible future outcomes and select an optimal sequence of actions to achieve the goal.\n",
        "\n",
        "\n",
        "#Popular Open-Source and Custom Agents\n",
        "\n",
        "* **LangChain:** A powerful framework for developing applications powered by language models. Provides components for building agents, including tools for interacting with external APIs, databases, and other services.\n",
        "\n",
        "* **LlamaIndex:** Another excellent framework offering similar functionality to LangChain. Focuses on building agents that can retrieve and process information effectively.\n",
        "\n",
        "* **Auto-GPT:** A popular example of a fully autonomous AI agent that can perform a wide range of tasks. It's built on top of GPT and uses a recursive approach to break down complex problems into smaller ones.\n",
        "\n",
        "\n",
        "**Custom Agents:**  Numerous custom agents are developed based on specific needs. The choice of tools (LangChain, LlamaIndex, or other libraries) and techniques (rule-based, reinforcement learning, etc.) will determine the kind of custom agents created.  These custom agents are crucial for highly specific tasks where off-the-shelf agents don't suit the needs.\n",
        "\n",
        "\n",
        "**Note:** The field of agentic workflows is evolving rapidly. New architectures, frameworks, and techniques are constantly emerging."
      ],
      "metadata": {
        "id": "goXgHL_bYUFI"
      }
    },
    {
      "cell_type": "markdown",
      "source": [
        "Created by: [Bharath Kumar Hemachandran](mailto:bharathh@gmail.com) [Linkedin](https://www.linkedin.com/in/bharath-hemachandran/)\n",
        "\n",
        "\n",
        "\n",
        "# **GenAI Agentic Workflows - A Complete Tutorial**\n"
      ],
      "metadata": {
        "id": "FphKKHV0d53t"
      }
    },
    {
      "cell_type": "markdown",
      "source": [
        "# Agent workflow demonstration\n",
        "\n",
        "Now, we will showcase the concept of [Mixture of Agents (MoA)](https://arxiv.org/pdf/2406.04692) using [Crew AI](https://www.crewai.com/) and [Groq API](https://console.groq.com/playground). The Mixture of Agents approach involves leveraging multiple AI agents, each equipped with different language models, to collaboratively complete a task. By combining the strengths and perspectives of various models, we can achieve a more robust and nuanced result."
      ],
      "metadata": {
        "id": "WSNVgEr8dXHC"
      }
    },
    {
      "cell_type": "markdown",
      "source": [
        "Here is a comprehensive example on how to setup the code using IDEs"
      ],
      "metadata": {
        "id": "mSmR0yC0k7vQ"
      }
    },
    {
      "cell_type": "code",
      "source": [
        "from IPython.display import YouTubeVideo\n",
        "YouTubeVideo('kBXYFaZ0EN0')"
      ],
      "metadata": {
        "colab": {
          "base_uri": "https://localhost:8080/",
          "height": 321
        },
        "id": "i-ZYe8s-mdsG",
        "outputId": "0a04a492-4a41-48d9-9464-012dd6c5180f"
      },
      "execution_count": null,
      "outputs": [
        {
          "output_type": "execute_result",
          "data": {
            "text/plain": [
              "<IPython.lib.display.YouTubeVideo at 0x7e1a86a0dad0>"
            ],
            "text/html": [
              "\n",
              "        <iframe\n",
              "            width=\"400\"\n",
              "            height=\"300\"\n",
              "            src=\"https://www.youtube.com/embed/kBXYFaZ0EN0\"\n",
              "            frameborder=\"0\"\n",
              "            allowfullscreen\n",
              "            \n",
              "        ></iframe>\n",
              "        "
            ],
            "image/jpeg": "[encoded data removed]"
          },
          "metadata": {},
          "execution_count": 14
        }
      ]
    },
    {
      "cell_type": "markdown",
      "source": [
        "![Typical Crew Setup](https://mintlify.s3.us-west-1.amazonaws.com/crewai/crewAI-mindmap.png)"
      ],
      "metadata": {
        "id": "QP_DW5BhmyYi"
      }
    },
    {
      "cell_type": "code",
      "source": [
        "%%capture\n",
        "!pip install pandas==1.5.1\n",
        "!pip install MLB-StatsAPI\n",
        "!pip install numpy==1.23.4\n",
        "!pip install crewai_tools==0.4.8\n",
        "!pip install crewai==0.41.1\n",
        "!pip install langchain_groq==0.1.6"
      ],
      "metadata": {
        "id": "2iysgY3obKxt"
      },
      "execution_count": null,
      "outputs": []
    },
    {
      "cell_type": "code",
      "source": [
        "# Import packages\n",
        "import os\n",
        "import statsapi\n",
        "import datetime\n",
        "from datetime import date, timedelta, datetime\n",
        "import pandas as pd\n",
        "import numpy as np\n",
        "from crewai_tools import tool\n",
        "from crewai import Agent, Task, Crew, Process\n",
        "from langchain_groq import ChatGroq"
      ],
      "metadata": {
        "id": "VgD82HW2aj3d"
      },
      "execution_count": null,
      "outputs": []
    },
    {
      "cell_type": "code",
      "source": [
        "import os\n",
        "from getpass import getpass\n",
        "os.environ[\"GROQ_API_KEY\"] = getpass(\"Enter your API key: \")"
      ],
      "metadata": {
        "colab": {
          "base_uri": "https://localhost:8080/"
        },
        "id": "RzvH6to4cgH4",
        "outputId": "3b155331-6b71-4a80-db28-ed2489755e79"
      },
      "execution_count": null,
      "outputs": [
        {
          "name": "stdout",
          "output_type": "stream",
          "text": [
            "Enter your API key: ··········\n"
          ]
        }
      ]
    },
    {
      "cell_type": "code",
      "source": [
        "llm_llama70b=ChatGroq(model_name=\"llama3-70b-8192\")\n",
        "llm_llama8b=ChatGroq(model_name=\"llama3-8b-8192\")\n",
        "llm_gemma2=ChatGroq(model_name=\"gemma2-9b-it\")\n",
        "llm_mixtral = ChatGroq(model_name=\"mixtral-8x7b-32768\")"
      ],
      "metadata": {
        "id": "d_ctrilJcRCc"
      },
      "execution_count": null,
      "outputs": []
    },
    {
      "cell_type": "markdown",
      "source": [
        "## Simple Agent Workflow Example\n",
        "\n",
        "Creating a blog on a given topic. The workflow"
      ],
      "metadata": {
        "id": "3zM8ylG9vPS-"
      }
    },
    {
      "cell_type": "markdown",
      "source": [
        "###Planning a workflow"
      ],
      "metadata": {
        "id": "I07pjDqgvfTW"
      }
    },
    {
      "cell_type": "markdown",
      "source": [
        "### Creating Agents"
      ],
      "metadata": {
        "id": "AjbWcS89vjJL"
      }
    },
    {
      "cell_type": "code",
      "source": [
        "planner = Agent(\n",
        "    llm=llm_llama70b,\n",
        "    role=\"Content Planner\",\n",
        "    goal=\"Plan engaging and factually accurate content on {topic}\",\n",
        "    backstory=\"You're working on planning a blog article \"\n",
        "              \"about the topic: {topic}.\"\n",
        "              \"You collect information that helps the \"\n",
        "              \"audience learn something \"\n",
        "              \"and make informed decisions. \"\n",
        "              \"Your work is the basis for \"\n",
        "              \"the Content Writer to write an article on this topic.\",\n",
        "    allow_delegation=False,\n",
        "\tverbose=True\n",
        ")\n",
        "\n",
        "writer = Agent(\n",
        "    llm=llm_llama70b,\n",
        "    role=\"Content Writer\",\n",
        "    goal=\"Write insightful and factually accurate \"\n",
        "         \"opinion piece about the topic: {topic}\",\n",
        "    backstory=\"You're working on a writing \"\n",
        "              \"a new opinion piece about the topic: {topic}. \"\n",
        "              \"You base your writing on the work of \"\n",
        "              \"the Content Planner, who provides an outline \"\n",
        "              \"and relevant context about the topic. \"\n",
        "              \"You follow the main objectives and \"\n",
        "              \"direction of the outline, \"\n",
        "              \"as provide by the Content Planner. \"\n",
        "              \"You also provide objective and impartial insights \"\n",
        "              \"and back them up with information \"\n",
        "              \"provide by the Content Planner. \"\n",
        "              \"You acknowledge in your opinion piece \"\n",
        "              \"when your statements are opinions \"\n",
        "              \"as opposed to objective statements.\",\n",
        "    allow_delegation=False,\n",
        "    verbose=True\n",
        ")\n",
        "\n",
        "editor = Agent(\n",
        "    llm=llm_llama70b,\n",
        "    role=\"Editor\",\n",
        "    goal=\"Edit a given blog post to align with \"\n",
        "         \"the writing style of the organization. \",\n",
        "    backstory=\"You are an editor who receives a blog post \"\n",
        "              \"from the Content Writer. \"\n",
        "              \"Your goal is to review the blog post \"\n",
        "              \"to ensure that it follows journalistic best practices,\"\n",
        "              \"provides balanced viewpoints \"\n",
        "              \"when providing opinions or assertions, \"\n",
        "              \"and also avoids major controversial topics \"\n",
        "              \"or opinions when possible.\",\n",
        "    allow_delegation=False,\n",
        "    verbose=True\n",
        ")"
      ],
      "metadata": {
        "id": "8225tMkLvnxR"
      },
      "execution_count": null,
      "outputs": []
    },
    {
      "cell_type": "markdown",
      "source": [
        "### Creating Tasks"
      ],
      "metadata": {
        "id": "toJoFrtBvwk5"
      }
    },
    {
      "cell_type": "code",
      "source": [
        "plan = Task(\n",
        "    description=(\n",
        "        \"1. Prioritize the latest trends, key players, \"\n",
        "            \"and noteworthy news on {topic}.\\n\"\n",
        "        \"2. Identify the target audience, considering \"\n",
        "            \"their interests and pain points.\\n\"\n",
        "        \"3. Develop a detailed content outline including \"\n",
        "            \"an introduction, key points, and a call to action.\\n\"\n",
        "        \"4. Include SEO keywords and relevant data or sources.\"\n",
        "    ),\n",
        "    expected_output=\"A comprehensive content plan document \"\n",
        "        \"with an outline, audience analysis, \"\n",
        "        \"SEO keywords, and resources.\",\n",
        "    agent=planner,\n",
        ")\n",
        "\n",
        "write = Task(\n",
        "    description=(\n",
        "        \"1. Use the content plan to craft a compelling \"\n",
        "            \"blog post on {topic}.\\n\"\n",
        "        \"2. Incorporate SEO keywords naturally.\\n\"\n",
        "\t\t\"3. Sections/Subtitles are properly named \"\n",
        "            \"in an engaging manner.\\n\"\n",
        "        \"4. Ensure the post is structured with an \"\n",
        "            \"engaging introduction, insightful body, \"\n",
        "            \"and a summarizing conclusion.\\n\"\n",
        "        \"5. Proofread for grammatical errors and \"\n",
        "            \"alignment with the brand's voice.\\n\"\n",
        "    ),\n",
        "    expected_output=\"A well-written blog post \"\n",
        "        \"in markdown format, ready for publication, \"\n",
        "        \"each section should have 2 or 3 paragraphs.\",\n",
        "    agent=writer,\n",
        ")\n",
        "\n",
        "edit = Task(\n",
        "    description=(\"Proofread the given blog post for \"\n",
        "                 \"grammatical errors and \"\n",
        "                 \"alignment with the brand's voice.\"),\n",
        "    expected_output=\"A well-written blog post in markdown format, \"\n",
        "                    \"ready for publication, \"\n",
        "                    \"each section should have 2 or 3 paragraphs.\",\n",
        "    agent=editor\n",
        ")"
      ],
      "metadata": {
        "id": "-6LRPbsfv4zg"
      },
      "execution_count": null,
      "outputs": []
    },
    {
      "cell_type": "markdown",
      "source": [
        "### Create a Crew and Execute it"
      ],
      "metadata": {
        "id": "ixwIXemPwA6r"
      }
    },
    {
      "cell_type": "code",
      "source": [
        "crew = Crew(\n",
        "    agents=[planner, writer, editor],\n",
        "    tasks=[plan, write, edit],\n",
        "    verbose=2\n",
        ")\n",
        "\n",
        "result = crew.kickoff(inputs={\"topic\": \"Artificial Intelligence\"})"
      ],
      "metadata": {
        "colab": {
          "base_uri": "https://localhost:8080/"
        },
        "id": "9L02HuLbwDfB",
        "outputId": "001d1fae-74cb-42bb-83e0-343a66dced58"
      },
      "execution_count": null,
      "outputs": [
        {
          "output_type": "stream",
          "name": "stderr",
          "text": [
            "WARNING:opentelemetry.trace:Overriding of current TracerProvider is not allowed\n",
            "WARNING:langchain_core.callbacks.manager:Error in StdOutCallbackHandler.on_chain_start callback: AttributeError(\"'NoneType' object has no attribute 'get'\")\n"
          ]
        },
        {
          "output_type": "stream",
          "name": "stdout",
          "text": [
            "\u001b[1m\u001b[95m [2025-01-25 04:40:47][DEBUG]: == Working Agent: Content Planner\u001b[00m\n",
            "\u001b[1m\u001b[95m [2025-01-25 04:40:47][INFO]: == Starting Task: 1. Prioritize the latest trends, key players, and noteworthy news on Artificial Intelligence.\n",
            "2. Identify the target audience, considering their interests and pain points.\n",
            "3. Develop a detailed content outline including an introduction, key points, and a call to action.\n",
            "4. Include SEO keywords and relevant data or sources.\u001b[00m\n"
          ]
        },
        {
          "output_type": "stream",
          "name": "stderr",
          "text": [
            "WARNING:langchain_core.callbacks.manager:Error in StdOutCallbackHandler.on_chain_start callback: AttributeError(\"'NoneType' object has no attribute 'get'\")\n"
          ]
        },
        {
          "output_type": "stream",
          "name": "stdout",
          "text": [
            "\u001b[32;1m\u001b[1;3mI now can give a great answer!\n",
            "\n",
            "Final Answer:\n",
            "\n",
            "**Content Plan Document: Artificial Intelligence**\n",
            "\n",
            "**Target Audience:**\n",
            "\n",
            "* Professionals and business leaders interested in technology and innovation\n",
            "* Entrepreneurs and startups exploring AI applications\n",
            "* Students and researchers in the field of computer science and AI\n",
            "* General audience interested in understanding the impact of AI on society\n",
            "\n",
            "**Pain Points:**\n",
            "\n",
            "* Staying up-to-date with the latest AI trends and developments\n",
            "* Understanding the potential benefits and risks of AI adoption\n",
            "* Identifying AI applications relevant to their industry or business\n",
            "* Addressing ethical concerns related to AI development and use\n",
            "\n",
            "**Latest Trends and Key Players:**\n",
            "\n",
            "* Natural Language Processing (NLP) advancements\n",
            "* Increased adoption of AI in healthcare and finance\n",
            "* Rise of Explainable AI (XAI) for transparency and accountability\n",
            "* Key players: Google, Microsoft, Amazon, Facebook, NVIDIA, IBM, and startups like DeepMind and Vicarious\n",
            "\n",
            "**Noteworthy News:**\n",
            "\n",
            "* AI-powered chatbots for customer service and support\n",
            "* AI-driven autonomous vehicles and drones\n",
            "* AI-assisted medical diagnosis and treatment\n",
            "* AI-generated art and music\n",
            "\n",
            "**Content Outline:**\n",
            "\n",
            "I. Introduction\n",
            "\n",
            "* Definition and brief history of Artificial Intelligence\n",
            "* Importance and relevance of AI in today's world\n",
            "\n",
            "II. Current State of AI\n",
            "\n",
            "* Overview of AI applications in various industries (healthcare, finance, retail, etc.)\n",
            "* Latest breakthroughs and advancements in AI research\n",
            "\n",
            "III. AI Trends and Innovations\n",
            "\n",
            "* NLP and its applications in customer service and language translation\n",
            "* XAI and its importance in building trust in AI systems\n",
            "* AI in healthcare and finance: opportunities and challenges\n",
            "\n",
            "IV. AI Ethics and Concerns\n",
            "\n",
            "* Job displacement and workforce impact\n",
            "* Bias in AI decision-making and data collection\n",
            "* Privacy and security concerns in AI development and use\n",
            "\n",
            "V. Conclusion and Call to Action\n",
            "\n",
            "* Recap of key takeaways and insights\n",
            "* Encouragement to explore AI applications and stay informed about the latest developments\n",
            "\n",
            "**SEO Keywords:**\n",
            "\n",
            "* Artificial Intelligence\n",
            "* Machine Learning\n",
            "* Natural Language Processing\n",
            "* Explainable AI\n",
            "* AI ethics\n",
            "* AI applications\n",
            "* AI trends\n",
            "* AI innovation\n",
            "\n",
            "**Resources:**\n",
            "\n",
            "* AI-related articles and research papers from top journals and publications (e.g., Nature, Science, MIT Technology Review)\n",
            "* Industry reports and market analysis from firms like McKinsey, Deloitte, and Accenture\n",
            "* Interviews and quotes from AI experts and thought leaders\n",
            "* Data and statistics from reputable sources like the AI Now Institute, AI Impacts, and the Future of Life Institute\n",
            "\n",
            "**Additional Data and Sources:**\n",
            "\n",
            "* AI market size and growth projections\n",
            "* AI adoption rates across industries and regions\n",
            "* AI-related job postings and skill requirements\n",
            "* AI-related conferences and events\n",
            "\n",
            "This comprehensive content plan document provides a detailed outline, target audience analysis, SEO keywords, and resources to create an engaging and informative article on Artificial Intelligence.\u001b[0m\n",
            "\n",
            "\u001b[1m> Finished chain.\u001b[0m\n",
            "\u001b[1m\u001b[92m [2025-01-25 04:40:49][DEBUG]: == [Content Planner] Task output: **Content Plan Document: Artificial Intelligence**\n",
            "\n",
            "**Target Audience:**\n",
            "\n",
            "* Professionals and business leaders interested in technology and innovation\n",
            "* Entrepreneurs and startups exploring AI applications\n",
            "* Students and researchers in the field of computer science and AI\n",
            "* General audience interested in understanding the impact of AI on society\n",
            "\n",
            "**Pain Points:**\n",
            "\n",
            "* Staying up-to-date with the latest AI trends and developments\n",
            "* Understanding the potential benefits and risks of AI adoption\n",
            "* Identifying AI applications relevant to their industry or business\n",
            "* Addressing ethical concerns related to AI development and use\n",
            "\n",
            "**Latest Trends and Key Players:**\n",
            "\n",
            "* Natural Language Processing (NLP) advancements\n",
            "* Increased adoption of AI in healthcare and finance\n",
            "* Rise of Explainable AI (XAI) for transparency and accountability\n",
            "* Key players: Google, Microsoft, Amazon, Facebook, NVIDIA, IBM, and startups like DeepMind and Vicarious\n",
            "\n",
            "**Noteworthy News:**\n",
            "\n",
            "* AI-powered chatbots for customer service and support\n",
            "* AI-driven autonomous vehicles and drones\n",
            "* AI-assisted medical diagnosis and treatment\n",
            "* AI-generated art and music\n",
            "\n",
            "**Content Outline:**\n",
            "\n",
            "I. Introduction\n",
            "\n",
            "* Definition and brief history of Artificial Intelligence\n",
            "* Importance and relevance of AI in today's world\n",
            "\n",
            "II. Current State of AI\n",
            "\n",
            "* Overview of AI applications in various industries (healthcare, finance, retail, etc.)\n",
            "* Latest breakthroughs and advancements in AI research\n",
            "\n",
            "III. AI Trends and Innovations\n",
            "\n",
            "* NLP and its applications in customer service and language translation\n",
            "* XAI and its importance in building trust in AI systems\n",
            "* AI in healthcare and finance: opportunities and challenges\n",
            "\n",
            "IV. AI Ethics and Concerns\n",
            "\n",
            "* Job displacement and workforce impact\n",
            "* Bias in AI decision-making and data collection\n",
            "* Privacy and security concerns in AI development and use\n",
            "\n",
            "V. Conclusion and Call to Action\n",
            "\n",
            "* Recap of key takeaways and insights\n",
            "* Encouragement to explore AI applications and stay informed about the latest developments\n",
            "\n",
            "**SEO Keywords:**\n",
            "\n",
            "* Artificial Intelligence\n",
            "* Machine Learning\n",
            "* Natural Language Processing\n",
            "* Explainable AI\n",
            "* AI ethics\n",
            "* AI applications\n",
            "* AI trends\n",
            "* AI innovation\n",
            "\n",
            "**Resources:**\n",
            "\n",
            "* AI-related articles and research papers from top journals and publications (e.g., Nature, Science, MIT Technology Review)\n",
            "* Industry reports and market analysis from firms like McKinsey, Deloitte, and Accenture\n",
            "* Interviews and quotes from AI experts and thought leaders\n",
            "* Data and statistics from reputable sources like the AI Now Institute, AI Impacts, and the Future of Life Institute\n",
            "\n",
            "**Additional Data and Sources:**\n",
            "\n",
            "* AI market size and growth projections\n",
            "* AI adoption rates across industries and regions\n",
            "* AI-related job postings and skill requirements\n",
            "* AI-related conferences and events\n",
            "\n",
            "This comprehensive content plan document provides a detailed outline, target audience analysis, SEO keywords, and resources to create an engaging and informative article on Artificial Intelligence.\n",
            "\n",
            "\u001b[00m\n",
            "\u001b[1m\u001b[95m [2025-01-25 04:40:49][DEBUG]: == Working Agent: Content Writer\u001b[00m\n",
            "\u001b[1m\u001b[95m [2025-01-25 04:40:49][INFO]: == Starting Task: 1. Use the content plan to craft a compelling blog post on Artificial Intelligence.\n",
            "2. Incorporate SEO keywords naturally.\n",
            "3. Sections/Subtitles are properly named in an engaging manner.\n",
            "4. Ensure the post is structured with an engaging introduction, insightful body, and a summarizing conclusion.\n",
            "5. Proofread for grammatical errors and alignment with the brand's voice.\n",
            "\u001b[00m\n"
          ]
        },
        {
          "output_type": "stream",
          "name": "stderr",
          "text": [
            "WARNING:langchain_core.callbacks.manager:Error in StdOutCallbackHandler.on_chain_start callback: AttributeError(\"'NoneType' object has no attribute 'get'\")\n"
          ]
        },
        {
          "output_type": "stream",
          "name": "stdout",
          "text": [
            "\u001b[32;1m\u001b[1;3mI now can give a great answer!\n",
            "\n",
            "Final Answer:\n",
            "\n",
            "**The Future of Artificial Intelligence: Trends, Innovations, and Concerns**\n",
            "============================================================\n",
            "\n",
            "**Introduction**\n",
            "---------------\n",
            "\n",
            "Artificial Intelligence (AI) has been a topic of interest for decades, but recent advancements have propelled it to the forefront of technological innovation. As machines become increasingly intelligent, it's essential to understand the current state of AI, its applications, and the implications of its development and use. In this article, we'll delve into the world of AI, exploring its history, trends, innovations, and concerns, to provide a comprehensive understanding of this rapidly evolving field.\n",
            "\n",
            "AI has come a long way since its inception in the 1950s, with significant breakthroughs in the past decade. Today, AI is no longer just a concept, but a reality that's transforming industries and revolutionizing the way we live and work. With its potential to automate tasks, analyze vast amounts of data, and make decisions, AI is poised to have a profound impact on our society.\n",
            "\n",
            "**Current State of AI**\n",
            "---------------------\n",
            "\n",
            "AI has already made a significant impact in various industries, including healthcare, finance, retail, and more. In healthcare, AI-powered systems can analyze medical images, diagnose diseases, and develop personalized treatment plans. In finance, AI-driven algorithms can detect fraud, optimize investment portfolios, and provide personalized financial advice. The applications of AI are vast, and its potential to transform industries is undeniable.\n",
            "\n",
            "Recent breakthroughs in AI research have led to the development of more sophisticated models, capable of learning from data and improving their performance over time. These advancements have paved the way for the creation of more accurate AI systems, capable of making decisions that were previously thought to be the exclusive domain of humans.\n",
            "\n",
            "**AI Trends and Innovations**\n",
            "-------------------------\n",
            "\n",
            "### Natural Language Processing (NLP)\n",
            "\n",
            "One of the most significant trends in AI is the development of Natural Language Processing (NLP). NLP enables machines to understand, interpret, and generate human language, revolutionizing the way we interact with machines. Chatbots, powered by NLP, are becoming increasingly popular in customer service, allowing for 24/7 support and personalized interactions.\n",
            "\n",
            "### Explainable AI (XAI)\n",
            "\n",
            "As AI becomes more pervasive, there's a growing need for transparency and accountability in AI decision-making. Explainable AI (XAI) is a response to this need, providing insights into the decision-making process of AI systems. XAI has the potential to build trust in AI, enabling users to understand the reasoning behind AI-driven decisions.\n",
            "\n",
            "### AI in Healthcare and Finance\n",
            "\n",
            "AI has the potential to transform healthcare and finance by providing personalized services, improving accuracy, and reducing costs. In healthcare, AI can analyze medical images, diagnose diseases, and develop personalized treatment plans. In finance, AI-driven algorithms can detect fraud, optimize investment portfolios, and provide personalized financial advice.\n",
            "\n",
            "**AI Ethics and Concerns**\n",
            "-------------------------\n",
            "\n",
            "As AI becomes more pervasive, concerns about its impact on society are growing. One of the most significant concerns is job displacement, as AI systems automate tasks, potentially replacing human workers. Bias in AI decision-making and data collection is another concern, as AI systems can perpetuate existing social inequalities.\n",
            "\n",
            "Privacy and security concerns are also on the rise, as AI systems collect and process vast amounts of data. To address these concerns, it's essential to develop AI systems that are transparent, accountable, and fair.\n",
            "\n",
            "**Conclusion and Call to Action**\n",
            "------------------------------\n",
            "\n",
            "In conclusion, AI is a rapidly evolving field with immense potential to transform industries and revolutionize the way we live and work. While there are concerns about AI's impact on society, it's essential to acknowledge the benefits it can bring. By understanding the trends, innovations, and concerns surrounding AI, we can harness its power to create a better future.\n",
            "\n",
            "As we move forward, it's crucial to stay informed about the latest developments in AI, to ensure that we're prepared for the opportunities and challenges it presents. By exploring AI applications, attending conferences, and engaging with experts, we can develop a deeper understanding of this complex and fascinating field.\n",
            "\n",
            "**Call to Action:** Stay ahead of the curve by following the latest AI trends, innovations, and concerns. Explore AI applications, attend conferences, and engage with experts to develop a deeper understanding of this rapidly evolving field.\n",
            "\n",
            "Note: The above content is written in markdown format, with section titles, subtitles, and paragraphs. The content is structured to provide an engaging introduction, insightful body, and a summarizing conclusion. SEO keywords have been incorporated naturally throughout the content.\u001b[0m\n",
            "\n",
            "\u001b[1m> Finished chain.\u001b[0m\n",
            "\u001b[1m\u001b[92m [2025-01-25 04:40:52][DEBUG]: == [Content Writer] Task output: **The Future of Artificial Intelligence: Trends, Innovations, and Concerns**\n",
            "============================================================\n",
            "\n",
            "**Introduction**\n",
            "---------------\n",
            "\n",
            "Artificial Intelligence (AI) has been a topic of interest for decades, but recent advancements have propelled it to the forefront of technological innovation. As machines become increasingly intelligent, it's essential to understand the current state of AI, its applications, and the implications of its development and use. In this article, we'll delve into the world of AI, exploring its history, trends, innovations, and concerns, to provide a comprehensive understanding of this rapidly evolving field.\n",
            "\n",
            "AI has come a long way since its inception in the 1950s, with significant breakthroughs in the past decade. Today, AI is no longer just a concept, but a reality that's transforming industries and revolutionizing the way we live and work. With its potential to automate tasks, analyze vast amounts of data, and make decisions, AI is poised to have a profound impact on our society.\n",
            "\n",
            "**Current State of AI**\n",
            "---------------------\n",
            "\n",
            "AI has already made a significant impact in various industries, including healthcare, finance, retail, and more. In healthcare, AI-powered systems can analyze medical images, diagnose diseases, and develop personalized treatment plans. In finance, AI-driven algorithms can detect fraud, optimize investment portfolios, and provide personalized financial advice. The applications of AI are vast, and its potential to transform industries is undeniable.\n",
            "\n",
            "Recent breakthroughs in AI research have led to the development of more sophisticated models, capable of learning from data and improving their performance over time. These advancements have paved the way for the creation of more accurate AI systems, capable of making decisions that were previously thought to be the exclusive domain of humans.\n",
            "\n",
            "**AI Trends and Innovations**\n",
            "-------------------------\n",
            "\n",
            "### Natural Language Processing (NLP)\n",
            "\n",
            "One of the most significant trends in AI is the development of Natural Language Processing (NLP). NLP enables machines to understand, interpret, and generate human language, revolutionizing the way we interact with machines. Chatbots, powered by NLP, are becoming increasingly popular in customer service, allowing for 24/7 support and personalized interactions.\n",
            "\n",
            "### Explainable AI (XAI)\n",
            "\n",
            "As AI becomes more pervasive, there's a growing need for transparency and accountability in AI decision-making. Explainable AI (XAI) is a response to this need, providing insights into the decision-making process of AI systems. XAI has the potential to build trust in AI, enabling users to understand the reasoning behind AI-driven decisions.\n",
            "\n",
            "### AI in Healthcare and Finance\n",
            "\n",
            "AI has the potential to transform healthcare and finance by providing personalized services, improving accuracy, and reducing costs. In healthcare, AI can analyze medical images, diagnose diseases, and develop personalized treatment plans. In finance, AI-driven algorithms can detect fraud, optimize investment portfolios, and provide personalized financial advice.\n",
            "\n",
            "**AI Ethics and Concerns**\n",
            "-------------------------\n",
            "\n",
            "As AI becomes more pervasive, concerns about its impact on society are growing. One of the most significant concerns is job displacement, as AI systems automate tasks, potentially replacing human workers. Bias in AI decision-making and data collection is another concern, as AI systems can perpetuate existing social inequalities.\n",
            "\n",
            "Privacy and security concerns are also on the rise, as AI systems collect and process vast amounts of data. To address these concerns, it's essential to develop AI systems that are transparent, accountable, and fair.\n",
            "\n",
            "**Conclusion and Call to Action**\n",
            "------------------------------\n",
            "\n",
            "In conclusion, AI is a rapidly evolving field with immense potential to transform industries and revolutionize the way we live and work. While there are concerns about AI's impact on society, it's essential to acknowledge the benefits it can bring. By understanding the trends, innovations, and concerns surrounding AI, we can harness its power to create a better future.\n",
            "\n",
            "As we move forward, it's crucial to stay informed about the latest developments in AI, to ensure that we're prepared for the opportunities and challenges it presents. By exploring AI applications, attending conferences, and engaging with experts, we can develop a deeper understanding of this complex and fascinating field.\n",
            "\n",
            "**Call to Action:** Stay ahead of the curve by following the latest AI trends, innovations, and concerns. Explore AI applications, attend conferences, and engage with experts to develop a deeper understanding of this rapidly evolving field.\n",
            "\n",
            "Note: The above content is written in markdown format, with section titles, subtitles, and paragraphs. The content is structured to provide an engaging introduction, insightful body, and a summarizing conclusion. SEO keywords have been incorporated naturally throughout the content.\n",
            "\n",
            "\u001b[00m\n",
            "\u001b[1m\u001b[95m [2025-01-25 04:40:52][DEBUG]: == Working Agent: Editor\u001b[00m\n",
            "\u001b[1m\u001b[95m [2025-01-25 04:40:52][INFO]: == Starting Task: Proofread the given blog post for grammatical errors and alignment with the brand's voice.\u001b[00m\n",
            "\u001b[32;1m\u001b[1;3mI now can give a great answer.\n",
            "\n",
            "Final Answer:\n",
            "\n",
            "**The Future of Artificial Intelligence: Trends, Innovations, and Concerns**\n",
            "============================================================\n",
            "\n",
            "**Introduction**\n",
            "---------------\n",
            "\n",
            "Artificial Intelligence (AI) has been a topic of interest for decades, but recent advancements have propelled it to the forefront of technological innovation. As machines become increasingly intelligent, it's essential to understand the current state of AI, its applications, and the implications of its development and use. In this article, we'll delve into the world of AI, exploring its history, trends, innovations, and concerns, to provide a comprehensive understanding of this rapidly evolving field.\n",
            "\n",
            "AI has come a long way since its inception in the 1950s, with significant breakthroughs in the past decade. Today, AI is no longer just a concept, but a reality that's transforming industries and revolutionizing the way we live and work. With its potential to automate tasks, analyze vast amounts of data, and make decisions, AI is poised to have a profound impact on our society.\n",
            "\n",
            "**Current State of AI**\n",
            "---------------------\n",
            "\n",
            "AI has already made a significant impact in various industries, including healthcare, finance, retail, and more. In healthcare, AI-powered systems can analyze medical images, diagnose diseases, and develop personalized treatment plans. In finance, AI-driven algorithms can detect fraud, optimize investment portfolios, and provide personalized financial advice. The applications of AI are vast, and its potential to transform industries is undeniable.\n",
            "\n",
            "Recent breakthroughs in AI research have led to the development of more sophisticated models, capable of learning from data and improving their performance over time. These advancements have paved the way for the creation of more accurate AI systems, capable of making decisions that were previously thought to be the exclusive domain of humans. For instance, AI-powered systems can now analyze vast amounts of data, identify patterns, and make predictions with unprecedented accuracy.\n",
            "\n",
            "**AI Trends and Innovations**\n",
            "-------------------------\n",
            "\n",
            "### Natural Language Processing (NLP)\n",
            "\n",
            "One of the most significant trends in AI is the development of Natural Language Processing (NLP). NLP enables machines to understand, interpret, and generate human language, revolutionizing the way we interact with machines. Chatbots, powered by NLP, are becoming increasingly popular in customer service, allowing for 24/7 support and personalized interactions. For example, virtual assistants like Siri, Alexa, and Google Assistant are using NLP to understand voice commands and respond accordingly.\n",
            "\n",
            "### Explainable AI (XAI)\n",
            "\n",
            "As AI becomes more pervasive, there's a growing need for transparency and accountability in AI decision-making. Explainable AI (XAI) is a response to this need, providing insights into the decision-making process of AI systems. XAI has the potential to build trust in AI, enabling users to understand the reasoning behind AI-driven decisions. This is particularly important in high-stakes applications, such as healthcare and finance, where transparency is crucial.\n",
            "\n",
            "### AI in Healthcare and Finance\n",
            "\n",
            "AI has the potential to transform healthcare and finance by providing personalized services, improving accuracy, and reducing costs. In healthcare, AI can analyze medical images, diagnose diseases, and develop personalized treatment plans. In finance, AI-driven algorithms can detect fraud, optimize investment portfolios, and provide personalized financial advice. For instance, AI-powered systems can analyze medical images to detect cancer cells, enabling early diagnosis and treatment.\n",
            "\n",
            "**AI Ethics and Concerns**\n",
            "-------------------------\n",
            "\n",
            "As AI becomes more pervasive, concerns about its impact on society are growing. One of the most significant concerns is job displacement, as AI systems automate tasks, potentially replacing human workers. Bias in AI decision-making and data collection is another concern, as AI systems can perpetuate existing social inequalities. For instance, AI-powered systems may reinforce existing biases in data, leading to discriminatory outcomes.\n",
            "\n",
            "Privacy and security concerns are also on the rise, as AI systems collect and process vast amounts of data. To address these concerns, it's essential to develop AI systems that are transparent, accountable, and fair. Governments and organizations must work together to establish regulations and guidelines for responsible AI development and deployment.\n",
            "\n",
            "**Conclusion and Call to Action**\n",
            "------------------------------\n",
            "\n",
            "In conclusion, AI is a rapidly evolving field with immense potential to transform industries and revolutionize the way we live and work. While there are concerns about AI's impact on society, it's essential to acknowledge the benefits it can bring. By understanding the trends, innovations, and concerns surrounding AI, we can harness its power to create a better future.\n",
            "\n",
            "As we move forward, it's crucial to stay informed about the latest developments in AI, to ensure that we're prepared for the opportunities and challenges it presents. By exploring AI applications, attending conferences, and engaging with experts, we can develop a deeper understanding of this complex and fascinating field.\n",
            "\n",
            "**Call to Action:** Stay ahead of the curve by following the latest AI trends, innovations, and concerns. Explore AI applications, attend conferences, and engage with experts to develop a deeper understanding of this rapidly evolving field. Together, we can ensure that AI is developed and deployed in a responsible and ethical manner, benefiting humanity as a whole.\u001b[0m\n",
            "\n",
            "\u001b[1m> Finished chain.\u001b[0m\n",
            "\u001b[1m\u001b[92m [2025-01-25 04:40:56][DEBUG]: == [Editor] Task output: **The Future of Artificial Intelligence: Trends, Innovations, and Concerns**\n",
            "============================================================\n",
            "\n",
            "**Introduction**\n",
            "---------------\n",
            "\n",
            "Artificial Intelligence (AI) has been a topic of interest for decades, but recent advancements have propelled it to the forefront of technological innovation. As machines become increasingly intelligent, it's essential to understand the current state of AI, its applications, and the implications of its development and use. In this article, we'll delve into the world of AI, exploring its history, trends, innovations, and concerns, to provide a comprehensive understanding of this rapidly evolving field.\n",
            "\n",
            "AI has come a long way since its inception in the 1950s, with significant breakthroughs in the past decade. Today, AI is no longer just a concept, but a reality that's transforming industries and revolutionizing the way we live and work. With its potential to automate tasks, analyze vast amounts of data, and make decisions, AI is poised to have a profound impact on our society.\n",
            "\n",
            "**Current State of AI**\n",
            "---------------------\n",
            "\n",
            "AI has already made a significant impact in various industries, including healthcare, finance, retail, and more. In healthcare, AI-powered systems can analyze medical images, diagnose diseases, and develop personalized treatment plans. In finance, AI-driven algorithms can detect fraud, optimize investment portfolios, and provide personalized financial advice. The applications of AI are vast, and its potential to transform industries is undeniable.\n",
            "\n",
            "Recent breakthroughs in AI research have led to the development of more sophisticated models, capable of learning from data and improving their performance over time. These advancements have paved the way for the creation of more accurate AI systems, capable of making decisions that were previously thought to be the exclusive domain of humans. For instance, AI-powered systems can now analyze vast amounts of data, identify patterns, and make predictions with unprecedented accuracy.\n",
            "\n",
            "**AI Trends and Innovations**\n",
            "-------------------------\n",
            "\n",
            "### Natural Language Processing (NLP)\n",
            "\n",
            "One of the most significant trends in AI is the development of Natural Language Processing (NLP). NLP enables machines to understand, interpret, and generate human language, revolutionizing the way we interact with machines. Chatbots, powered by NLP, are becoming increasingly popular in customer service, allowing for 24/7 support and personalized interactions. For example, virtual assistants like Siri, Alexa, and Google Assistant are using NLP to understand voice commands and respond accordingly.\n",
            "\n",
            "### Explainable AI (XAI)\n",
            "\n",
            "As AI becomes more pervasive, there's a growing need for transparency and accountability in AI decision-making. Explainable AI (XAI) is a response to this need, providing insights into the decision-making process of AI systems. XAI has the potential to build trust in AI, enabling users to understand the reasoning behind AI-driven decisions. This is particularly important in high-stakes applications, such as healthcare and finance, where transparency is crucial.\n",
            "\n",
            "### AI in Healthcare and Finance\n",
            "\n",
            "AI has the potential to transform healthcare and finance by providing personalized services, improving accuracy, and reducing costs. In healthcare, AI can analyze medical images, diagnose diseases, and develop personalized treatment plans. In finance, AI-driven algorithms can detect fraud, optimize investment portfolios, and provide personalized financial advice. For instance, AI-powered systems can analyze medical images to detect cancer cells, enabling early diagnosis and treatment.\n",
            "\n",
            "**AI Ethics and Concerns**\n",
            "-------------------------\n",
            "\n",
            "As AI becomes more pervasive, concerns about its impact on society are growing. One of the most significant concerns is job displacement, as AI systems automate tasks, potentially replacing human workers. Bias in AI decision-making and data collection is another concern, as AI systems can perpetuate existing social inequalities. For instance, AI-powered systems may reinforce existing biases in data, leading to discriminatory outcomes.\n",
            "\n",
            "Privacy and security concerns are also on the rise, as AI systems collect and process vast amounts of data. To address these concerns, it's essential to develop AI systems that are transparent, accountable, and fair. Governments and organizations must work together to establish regulations and guidelines for responsible AI development and deployment.\n",
            "\n",
            "**Conclusion and Call to Action**\n",
            "------------------------------\n",
            "\n",
            "In conclusion, AI is a rapidly evolving field with immense potential to transform industries and revolutionize the way we live and work. While there are concerns about AI's impact on society, it's essential to acknowledge the benefits it can bring. By understanding the trends, innovations, and concerns surrounding AI, we can harness its power to create a better future.\n",
            "\n",
            "As we move forward, it's crucial to stay informed about the latest developments in AI, to ensure that we're prepared for the opportunities and challenges it presents. By exploring AI applications, attending conferences, and engaging with experts, we can develop a deeper understanding of this complex and fascinating field.\n",
            "\n",
            "**Call to Action:** Stay ahead of the curve by following the latest AI trends, innovations, and concerns. Explore AI applications, attend conferences, and engage with experts to develop a deeper understanding of this rapidly evolving field. Together, we can ensure that AI is developed and deployed in a responsible and ethical manner, benefiting humanity as a whole.\n",
            "\n",
            "\u001b[00m\n"
          ]
        }
      ]
    },
    {
      "cell_type": "code",
      "source": [
        "from IPython.display import Markdown\n",
        "Markdown(str(result))"
      ],
      "metadata": {
        "colab": {
          "base_uri": "https://localhost:8080/",
          "height": 1000
        },
        "id": "6Oe4vGd_wNzO",
        "outputId": "c51ca219-a555-4f2b-e8a9-3b08c4f2dafb"
      },
      "execution_count": null,
      "outputs": [
        {
          "output_type": "execute_result",
          "data": {
            "text/plain": [
              "<IPython.core.display.Markdown object>"
            ],
            "text/markdown": "**The Future of Artificial Intelligence: Trends, Innovations, and Concerns**\n============================================================\n\n**Introduction**\n---------------\n\nArtificial Intelligence (AI) has been a topic of interest for decades, but recent advancements have propelled it to the forefront of technological innovation. As machines become increasingly intelligent, it's essential to understand the current state of AI, its applications, and the implications of its development and use. In this article, we'll delve into the world of AI, exploring its history, trends, innovations, and concerns, to provide a comprehensive understanding of this rapidly evolving field.\n\nAI has come a long way since its inception in the 1950s, with significant breakthroughs in the past decade. Today, AI is no longer just a concept, but a reality that's transforming industries and revolutionizing the way we live and work. With its potential to automate tasks, analyze vast amounts of data, and make decisions, AI is poised to have a profound impact on our society.\n\n**Current State of AI**\n---------------------\n\nAI has already made a significant impact in various industries, including healthcare, finance, retail, and more. In healthcare, AI-powered systems can analyze medical images, diagnose diseases, and develop personalized treatment plans. In finance, AI-driven algorithms can detect fraud, optimize investment portfolios, and provide personalized financial advice. The applications of AI are vast, and its potential to transform industries is undeniable.\n\nRecent breakthroughs in AI research have led to the development of more sophisticated models, capable of learning from data and improving their performance over time. These advancements have paved the way for the creation of more accurate AI systems, capable of making decisions that were previously thought to be the exclusive domain of humans. For instance, AI-powered systems can now analyze vast amounts of data, identify patterns, and make predictions with unprecedented accuracy.\n\n**AI Trends and Innovations**\n-------------------------\n\n### Natural Language Processing (NLP)\n\nOne of the most significant trends in AI is the development of Natural Language Processing (NLP). NLP enables machines to understand, interpret, and generate human language, revolutionizing the way we interact with machines. Chatbots, powered by NLP, are becoming increasingly popular in customer service, allowing for 24/7 support and personalized interactions. For example, virtual assistants like Siri, Alexa, and Google Assistant are using NLP to understand voice commands and respond accordingly.\n\n### Explainable AI (XAI)\n\nAs AI becomes more pervasive, there's a growing need for transparency and accountability in AI decision-making. Explainable AI (XAI) is a response to this need, providing insights into the decision-making process of AI systems. XAI has the potential to build trust in AI, enabling users to understand the reasoning behind AI-driven decisions. This is particularly important in high-stakes applications, such as healthcare and finance, where transparency is crucial.\n\n### AI in Healthcare and Finance\n\nAI has the potential to transform healthcare and finance by providing personalized services, improving accuracy, and reducing costs. In healthcare, AI can analyze medical images, diagnose diseases, and develop personalized treatment plans. In finance, AI-driven algorithms can detect fraud, optimize investment portfolios, and provide personalized financial advice. For instance, AI-powered systems can analyze medical images to detect cancer cells, enabling early diagnosis and treatment.\n\n**AI Ethics and Concerns**\n-------------------------\n\nAs AI becomes more pervasive, concerns about its impact on society are growing. One of the most significant concerns is job displacement, as AI systems automate tasks, potentially replacing human workers. Bias in AI decision-making and data collection is another concern, as AI systems can perpetuate existing social inequalities. For instance, AI-powered systems may reinforce existing biases in data, leading to discriminatory outcomes.\n\nPrivacy and security concerns are also on the rise, as AI systems collect and process vast amounts of data. To address these concerns, it's essential to develop AI systems that are transparent, accountable, and fair. Governments and organizations must work together to establish regulations and guidelines for responsible AI development and deployment.\n\n**Conclusion and Call to Action**\n------------------------------\n\nIn conclusion, AI is a rapidly evolving field with immense potential to transform industries and revolutionize the way we live and work. While there are concerns about AI's impact on society, it's essential to acknowledge the benefits it can bring. By understanding the trends, innovations, and concerns surrounding AI, we can harness its power to create a better future.\n\nAs we move forward, it's crucial to stay informed about the latest developments in AI, to ensure that we're prepared for the opportunities and challenges it presents. By exploring AI applications, attending conferences, and engaging with experts, we can develop a deeper understanding of this complex and fascinating field.\n\n**Call to Action:** Stay ahead of the curve by following the latest AI trends, innovations, and concerns. Explore AI applications, attend conferences, and engage with experts to develop a deeper understanding of this rapidly evolving field. Together, we can ensure that AI is developed and deployed in a responsible and ethical manner, benefiting humanity as a whole."
          },
          "metadata": {},
          "execution_count": 28
        }
      ]
    },
    {
      "cell_type": "markdown",
      "source": [
        "## Agentic workflow with custom tools and multiple LLMs(function calling)\n",
        "\n",
        "In our project, multiple MLB Writer agents, each utilizing a different language model (`llama3-8b-8192`, `gemma2-9b-it`, and `mixtral-8x7b-32768`), will independently generate game recap articles based on game data collected from other Crew AI agents. These diverse outputs will then be aggregated by an MLB Editor agent, which will synthesize the best elements from each article to create a final, polished game recap. This process not only demonstrates the power of collaborative AI but also highlights the effectiveness of integrating multiple models to enhance the quality of the generated content."
      ],
      "metadata": {
        "id": "vjMjLdZUdkSs"
      }
    },
    {
      "cell_type": "markdown",
      "source": [
        "### Define Tools (Function Calls for LLMs)\n",
        "First, we will define [specialized tools](https://docs.crewai.com/concepts/tools) to equip some of the agents with to assist in gathering and processing MLB game data. These tools are designed to fetch game information and player boxscores via the MLB-Stats API. By providing these tools to our agents, they can call them with relevant information provided by the user prompt and infuse our MLB game recaps with accurate, up-to-date external information.\n",
        "\n",
        "`get_game_info`: Fetches high-level information about an MLB game, including teams, scores, and key players.\n",
        "\n",
        "`get_batting_stats`: Retrieves detailed player batting statistics for a specified MLB game.\n",
        "\n",
        "`get_pitching_stats`: Retrieves detailed player pitching statistics for a specified MLB game.\n",
        "\n",
        "For more information on tool use/function calling with Groq, check out this [Function Calling 101](https://github.com/groq/groq-api-cookbook/blob/main/tutorials/function-calling-101-ecommerce/Function-Calling-101-Ecommerce.ipynb) cookbook post."
      ],
      "metadata": {
        "id": "Yl4T-6Xrc1UD"
      }
    },
    {
      "cell_type": "code",
      "source": [
        "@tool\n",
        "def get_game_info(game_date: str, team_name: str) -> str:\n",
        "    \"\"\"Gets high-level information on an MLB game.\n",
        "\n",
        "    Params:\n",
        "    game_date: The date of the game of interest, in the form \"yyyy-mm-dd\".\n",
        "    team_name: MLB team name. Both full name (e.g. \"New York Yankees\") or nickname (\"Yankees\") are valid. If multiple teams are mentioned, use the first one\n",
        "    \"\"\"\n",
        "    sched = statsapi.schedule(start_date=game_date,end_date=game_date)\n",
        "    sched_df = pd.DataFrame(sched)\n",
        "    game_info_df = sched_df[sched_df['summary'].str.contains(team_name, case=False, na=False)]\n",
        "\n",
        "    game_id = str(game_info_df.game_id.tolist()[0])\n",
        "    home_team = game_info_df.home_name.tolist()[0]\n",
        "    home_score = game_info_df.home_score.tolist()[0]\n",
        "    away_team = game_info_df.away_name.tolist()[0]\n",
        "    away_score = game_info_df.away_score.tolist()[0]\n",
        "    winning_team = game_info_df.winning_team.tolist()[0]\n",
        "    series_status = game_info_df.series_status.tolist()[0]\n",
        "\n",
        "    game_info = '''\n",
        "        Game ID: {game_id}\n",
        "        Home Team: {home_team}\n",
        "        Home Score: {home_score}\n",
        "        Away Team: {away_team}\n",
        "        Away Score: {away_score}\n",
        "        Winning Team: {winning_team}\n",
        "        Series Status: {series_status}\n",
        "    '''.format(game_id = game_id, home_team = home_team, home_score = home_score,\n",
        "               away_team = away_team, away_score = away_score, \\\n",
        "                series_status = series_status, winning_team = winning_team)\n",
        "\n",
        "    return game_info\n",
        "\n",
        "\n",
        "@tool\n",
        "def get_batting_stats(game_id: str) -> str:\n",
        "    \"\"\"Gets player boxscore batting stats for a particular MLB game\n",
        "\n",
        "    Params:\n",
        "    game_id: The 6-digit ID of the game\n",
        "    \"\"\"\n",
        "    boxscores=statsapi.boxscore_data(game_id)\n",
        "    player_info_df = pd.DataFrame(boxscores['playerInfo']).T.reset_index()\n",
        "\n",
        "    away_batters_box = pd.DataFrame(boxscores['awayBatters']).iloc[1:]\n",
        "    away_batters_box['team_name'] = boxscores['teamInfo']['away']['teamName']\n",
        "\n",
        "    home_batters_box = pd.DataFrame(boxscores['homeBatters']).iloc[1:]\n",
        "    home_batters_box['team_name'] = boxscores['teamInfo']['home']['teamName']\n",
        "\n",
        "    batters_box_df = pd.concat([away_batters_box, home_batters_box]).merge(player_info_df, left_on = 'name', right_on = 'boxscoreName')\n",
        "    return str(batters_box_df[['team_name','fullName','position','ab','r','h','hr','rbi','bb','sb']])\n",
        "\n",
        "\n",
        "@tool\n",
        "def get_pitching_stats(game_id: str) -> str:\n",
        "    \"\"\"Gets player boxscore pitching stats for a particular MLB game\n",
        "\n",
        "    Params:\n",
        "    game_id: The 6-digit ID of the game\n",
        "    \"\"\"\n",
        "    boxscores=statsapi.boxscore_data(game_id)\n",
        "    player_info_df = pd.DataFrame(boxscores['playerInfo']).T.reset_index()\n",
        "\n",
        "    away_pitchers_box = pd.DataFrame(boxscores['awayPitchers']).iloc[1:]\n",
        "    away_pitchers_box['team_name'] = boxscores['teamInfo']['away']['teamName']\n",
        "\n",
        "    home_pitchers_box = pd.DataFrame(boxscores['homePitchers']).iloc[1:]\n",
        "    home_pitchers_box['team_name'] = boxscores['teamInfo']['home']['teamName']\n",
        "\n",
        "    pitchers_box_df = pd.concat([away_pitchers_box,home_pitchers_box]).merge(player_info_df, left_on = 'name', right_on = 'boxscoreName')\n",
        "    return str(pitchers_box_df[['team_name','fullName','ip','h','r','er','bb','k','note']])"
      ],
      "metadata": {
        "id": "U1gHtfQKclkN"
      },
      "execution_count": null,
      "outputs": []
    },
    {
      "cell_type": "markdown",
      "source": [
        "### Define Agents\n",
        "In CrewAI, [agents](https://docs.crewai.com/concepts/agents) are autonomous entities designed to perform specific roles and achieve particular goals. Each agent uses a language model (LLM) and may have specialized tools to help execute tasks. Here are the agents in this demonstration:\n",
        "- **MLB Researcher**: Uses the `get_game_info` tool to gather high-level game information.\n",
        "- **MLB Statistician**: Retrieves player batting and pitching boxscore stats using the `get_batting_stats` and `get_pitching_stats` tools.\n",
        "- **MLB Writers**: Three agents, each using different LLMs (LLaMA-8b, Gemma-9b, Mixtral-8x7b), to write game recap articles\n",
        "- **MLB Editor**: Edits the articles from the writers to create the final game recap.\n",
        "\n",
        "#### Mixture of Agents\n",
        "In this demo, although the MLB Researcher and MLB Statistician agents use tool calling to gather data for the output, our Mixture of Agents framework consists of the three MLB Writer agents and the MLB Editor. This makes our MoA architecture a simple 2 layer design, but more complex architectures are possible to improve the output even more:\n",
        "\n",
        "![Mixture of Agents Diagram](https://github.com/groq/groq-api-cookbook/raw/main/tutorials/crewai-mixture-of-agents/mixture_of_agents_diagram.png)\n",
        "\n"
      ],
      "metadata": {
        "id": "mhpPzJl6eEtb"
      }
    },
    {
      "cell_type": "code",
      "source": [
        "mlb_researcher = Agent(\n",
        "    llm=llm_llama70b,\n",
        "    role=\"MLB Researcher\",\n",
        "    goal=\"Identify and return info for the MLB game related to the user prompt by returning the exact results of the get_game_info tool\",\n",
        "    backstory=\"An MLB researcher that identifies games for statisticians to analyze stats from\",\n",
        "    tools=[get_game_info],\n",
        "    verbose=True,\n",
        "    allow_delegation=False\n",
        ")\n",
        "\n",
        "mlb_statistician = Agent(\n",
        "    llm=llm_llama70b,\n",
        "    role=\"MLB Statistician\",\n",
        "    goal=\"Retrieve player batting and pitching stats for the game identified by the MLB Researcher\",\n",
        "    backstory=\"An MLB Statistician analyzing player boxscore stats for the relevant game\",\n",
        "    tools=[get_batting_stats, get_pitching_stats],\n",
        "    verbose=True,\n",
        "    allow_delegation=False\n",
        ")\n",
        "\n",
        "mlb_writer_llama = Agent(\n",
        "    llm=llm_llama8b,\n",
        "    role=\"MLB Writer\",\n",
        "    goal=\"Write a detailed game recap article using the provided game information and stats\",\n",
        "    backstory=\"An experienced and honest writer who does not make things up\",\n",
        "    tools=[],  # The writer does not need additional tools\n",
        "    verbose=True,\n",
        "    allow_delegation=False\n",
        ")\n",
        "\n",
        "mlb_writer_gemma = Agent(\n",
        "    llm=llm_gemma2,\n",
        "    role=\"MLB Writer\",\n",
        "    goal=\"Write a detailed game recap article using the provided game information and stats\",\n",
        "    backstory=\"An experienced and honest writer who does not make things up\",\n",
        "    tools=[],  # The writer does not need additional tools\n",
        "    verbose=True,\n",
        "    allow_delegation=False\n",
        ")\n",
        "\n",
        "mlb_writer_mixtral = Agent(\n",
        "    llm=llm_mixtral,\n",
        "    role=\"MLB Writer\",\n",
        "    goal=\"Write a detailed game recap article using the provided game information and stats\",\n",
        "    backstory=\"An experienced and honest writer who does not make things up\",\n",
        "    tools=[],  # The writer does not need additional tools\n",
        "    verbose=True,\n",
        "    allow_delegation=False\n",
        ")\n",
        "\n",
        "mlb_editor = Agent(\n",
        "    llm=llm_llama70b,\n",
        "    role=\"MLB Editor\",\n",
        "    goal=\"Edit multiple game recap articles to create the best final product.\",\n",
        "    backstory=\"An experienced editor that excels at taking the best parts of multiple texts to create the best final product\",\n",
        "    tools=[],  # The writer does not need additional tools\n",
        "    verbose=True,\n",
        "    allow_delegation=False\n",
        ")"
      ],
      "metadata": {
        "id": "6bhqqPHIcxUD"
      },
      "execution_count": null,
      "outputs": []
    },
    {
      "cell_type": "markdown",
      "source": [
        "### Define Tasks\n",
        "[Tasks in Crew AI](https://docs.crewai.com/concepts/tasks) are specific assignments given to agents, detailing the actions they need to perform to achieve a particular goal. Tasks can have dependencies and context. Here, we define several tasks that our agents will execute to generate and refine an MLB game recap.\n",
        "- **collect_game_info**: This task gathers high-level information about an MLB game based on the user prompt. It is handled by the MLB Researcher agent and uses the `get_game_info` tool. This task must be completed before any other tasks can begin.\n",
        "\n",
        "- **retrieve_batting_stats**: This task retrieves detailed player batting stats for the identified game. It depends on the completion of collect_game_info. This task runs in parallel with `retrieve_pitching_stats` and is handled by the MLB Statistician agent.\n",
        "\n",
        "- **retrieve_pitching_stats**: This task retrieves detailed player pitching stats for the identified game. It also depends on the completion of `collect_game_info`. This task runs in parallel with `retrieve_batting_stats` and is handled by the MLB Statistician agent.\n",
        "\n",
        "- **write_game_recap**: Three separate tasks handled by different MLB Writer agents (using LLaMA-8b, Gemma-9b, Mixtral-8x7b). Each writer generates a game recap article using the data collected. These tasks depend on the completion of `collect_game_info`, `retrieve_batting_stats`, and `retrieve_pitching_stats`.\n",
        "\n",
        "- **edit_game_recap**: This task involves synthesizing the best parts of the three game recap articles into a final, polished article. It is handled by the MLB Editor agent and depends on the completion of all previous tasks"
      ],
      "metadata": {
        "id": "Aj7iewy5e8m4"
      }
    },
    {
      "cell_type": "code",
      "source": [
        "collect_game_info = Task(\n",
        "    description='''\n",
        "    Identify the correct game related to the user prompt and return game info using the get_game_info tool.\n",
        "    Unless a specific date is provided in the user prompt, use {default_date} as the game date\n",
        "    User prompt: {user_prompt}\n",
        "    ''',\n",
        "    expected_output='High-level information of the relevant MLB game',\n",
        "    agent=mlb_researcher\n",
        ")\n",
        "\n",
        "retrieve_batting_stats = Task(\n",
        "    description='Retrieve ONLY boxscore batting stats for the relevant MLB game',\n",
        "    expected_output='A table of batting boxscore stats',\n",
        "    agent=mlb_statistician,\n",
        "    dependencies=[collect_game_info],\n",
        "    context=[collect_game_info]\n",
        ")\n",
        "\n",
        "retrieve_pitching_stats = Task(\n",
        "    description='Retrieve ONLY boxscore pitching stats for the relevant MLB game',\n",
        "    expected_output='A table of pitching boxscore stats',\n",
        "    agent=mlb_statistician,\n",
        "    dependencies=[collect_game_info],\n",
        "    context=[collect_game_info]\n",
        ")\n",
        "\n",
        "write_game_recap_llama = Task(\n",
        "    description='''\n",
        "    Write a game recap article using the provided game information and stats.\n",
        "    Key instructions:\n",
        "    - Include things like final score, top performers and winning/losing pitcher.\n",
        "    - Use ONLY the provided data and DO NOT make up any information, such as specific innings when events occurred, that isn't explicitly from the provided input.\n",
        "    - Do not print the box score\n",
        "    ''',\n",
        "    expected_output='An MLB game recap article',\n",
        "    agent=mlb_writer_llama,\n",
        "    dependencies=[collect_game_info, retrieve_batting_stats, retrieve_pitching_stats],\n",
        "    context=[collect_game_info, retrieve_batting_stats, retrieve_pitching_stats]\n",
        ")\n",
        "\n",
        "write_game_recap_gemma = Task(\n",
        "    description='''\n",
        "    Write a game recap article using the provided game information and stats.\n",
        "    Key instructions:\n",
        "    - Include things like final score, top performers and winning/losing pitcher.\n",
        "    - Use ONLY the provided data and DO NOT make up any information, such as specific innings when events occurred, that isn't explicitly from the provided input.\n",
        "    - Do not print the box score\n",
        "    ''',\n",
        "    expected_output='An MLB game recap article',\n",
        "    agent=mlb_writer_gemma,\n",
        "    dependencies=[collect_game_info, retrieve_batting_stats, retrieve_pitching_stats],\n",
        "    context=[collect_game_info, retrieve_batting_stats, retrieve_pitching_stats]\n",
        ")\n",
        "\n",
        "write_game_recap_mixtral = Task(\n",
        "    description='''\n",
        "    Write a succinct game recap article using the provided game information and stats.\n",
        "    Key instructions:\n",
        "    - Structure with the following sections:\n",
        "          - Introduction (game result, winning/losing pitchers, top performer on the winning team)\n",
        "          - Other key performers on the winning team\n",
        "          - Key performers on the losing team\n",
        "          - Conclusion (including series result)\n",
        "    - Use ONLY the provided data and DO NOT make up any information, such as specific innings when events occurred, that isn't explicitly from the provided input.\n",
        "    - Do not print the box score or write out the section names\n",
        "    ''',\n",
        "    expected_output='An MLB game recap article',\n",
        "    agent=mlb_writer_mixtral,\n",
        "    dependencies=[collect_game_info, retrieve_batting_stats, retrieve_pitching_stats],\n",
        "    context=[collect_game_info, retrieve_batting_stats, retrieve_pitching_stats]\n",
        ")\n",
        "\n",
        "edit_game_recap = Task(\n",
        "    description='''\n",
        "    You will be provided three game recap articles from multiple writers. Take the best of\n",
        "    all three to output the optimal final article.\n",
        "\n",
        "    Pay close attention to the original instructions:\n",
        "\n",
        "    Key instructions:\n",
        "        - Structure with the following sections:\n",
        "          - Introduction (game result, winning/losing pitchers, top performer on the winning team)\n",
        "          - Other key performers on the winning team\n",
        "          - Key performers on the losing team\n",
        "          - Conclusion (including series result)\n",
        "        - Use ONLY the provided data and DO NOT make up any information, such as specific innings when events occurred, that isn't explicitly from the provided input.\n",
        "        - Do not print the box score or write out the section names\n",
        "\n",
        "    It is especially important that no false information, such as any inning or the inning in which an event occured,\n",
        "    is present in the final product. If a piece of information is present in one article and not the others, it is probably false\n",
        "    ''',\n",
        "    expected_output='An MLB game recap article',\n",
        "    agent=mlb_editor,\n",
        "    dependencies=[collect_game_info, retrieve_batting_stats, retrieve_pitching_stats],\n",
        "    context=[collect_game_info, retrieve_batting_stats, retrieve_pitching_stats]\n",
        ")"
      ],
      "metadata": {
        "id": "D7Cvp6gUfk13"
      },
      "execution_count": null,
      "outputs": []
    },
    {
      "cell_type": "markdown",
      "source": [
        "### Define and Execute Crew\n",
        "\n",
        "In this final step, we define and execute our Crew, which consists of the agents and tasks we've set up. The Crew class orchestrates the workflow, ensuring that tasks are completed in the correct order and that dependencies are respected. By running the kickoff method, we provide user input to initiate the process, and the Crew handles the rest, from data collection to generating and editing the final game recap."
      ],
      "metadata": {
        "id": "Gf91Zq-sfzSD"
      }
    },
    {
      "cell_type": "code",
      "source": [
        "crew = Crew(\n",
        "    agents=[mlb_researcher, mlb_statistician, mlb_writer_llama, mlb_writer_gemma, mlb_writer_mixtral, mlb_editor],\n",
        "    tasks=[\n",
        "        collect_game_info,\n",
        "        retrieve_batting_stats, retrieve_pitching_stats,\n",
        "        write_game_recap_llama, write_game_recap_gemma, write_game_recap_mixtral,\n",
        "        edit_game_recap\n",
        "        ],\n",
        "    verbose=False\n",
        ")"
      ],
      "metadata": {
        "id": "jHmWMjfbf7UW"
      },
      "execution_count": null,
      "outputs": []
    },
    {
      "cell_type": "code",
      "source": [
        "user_prompt = 'Write a recap of the Yankees game on July 14, 2024'\n",
        "default_date = datetime.now().date() - timedelta(1) # Set default date to yesterday in case no date is specified\n",
        "\n",
        "result = crew.kickoff(inputs={\"user_prompt\": user_prompt, \"default_date\": str(default_date)})"
      ],
      "metadata": {
        "colab": {
          "base_uri": "https://localhost:8080/"
        },
        "id": "Lxge04xnf-Pw",
        "outputId": "ea2818ce-0dde-45f0-c385-7c7d57ddfd03"
      },
      "execution_count": null,
      "outputs": [
        {
          "output_type": "stream",
          "name": "stderr",
          "text": [
            "WARNING:langchain_core.callbacks.manager:Error in StdOutCallbackHandler.on_chain_start callback: AttributeError(\"'NoneType' object has no attribute 'get'\")\n"
          ]
        },
        {
          "output_type": "stream",
          "name": "stdout",
          "text": [
            "\u001b[32;1m\u001b[1;3m\u001b[0m\u001b[32;1m\u001b[1;3mThought: I need to identify the correct game related to the user prompt and return game info using the get_game_info tool.\n",
            "\n",
            "Action: get_game_info\n",
            "Action Input: {'game_date': '2024-07-14', 'team_name': 'Yankees'}\u001b[0m\u001b[95m \n",
            "\n",
            "\n",
            "        Game ID: 747009\n",
            "        Home Team: Baltimore Orioles\n",
            "        Home Score: 6\n",
            "        Away Team: New York Yankees\n",
            "        Away Score: 5\n",
            "        Winning Team: Baltimore Orioles\n",
            "        Series Status: NYY wins 2-1\n",
            "    \n",
            "\u001b[00m\n"
          ]
        },
        {
          "output_type": "stream",
          "name": "stderr",
          "text": [
            "WARNING:langchain_core.callbacks.manager:Error in StdOutCallbackHandler.on_chain_start callback: AttributeError(\"'NoneType' object has no attribute 'get'\")\n"
          ]
        },
        {
          "output_type": "stream",
          "name": "stdout",
          "text": [
            "\u001b[32;1m\u001b[1;3mThought: I now know the final answer\n",
            "Final Answer: \n",
            "        Game ID: 747009\n",
            "        Home Team: Baltimore Orioles\n",
            "        Home Score: 6\n",
            "        Away Team: New York Yankees\n",
            "        Away Score: 5\n",
            "        Winning Team: Baltimore Orioles\n",
            "        Series Status: NYY wins 2-1\u001b[0m\n",
            "\n",
            "\u001b[1m> Finished chain.\u001b[0m\n",
            "\u001b[32;1m\u001b[1;3mI need to retrieve the batting boxscore stats for the MLB game with ID 747009.\n",
            "\n",
            "Action: get_batting_stats\n",
            "Action Input: {\"game_id\": \"747009\"}\u001b[0m\u001b[95m \n",
            "\n",
            "   team_name           fullName position ab  r  h hr rbi bb sb\n",
            "0    Yankees           Ben Rice       1B  5  1  1  1   3  0  0\n",
            "1    Yankees        DJ LeMahieu       1B  0  0  0  0   0  0  0\n",
            "2    Yankees          Juan Soto       RF  5  0  0  0   0  0  0\n",
            "3    Yankees        Aaron Judge       DH  2  0  0  0   0  2  0\n",
            "4    Yankees       Alex Verdugo       LF  4  0  0  0   0  1  0\n",
            "5    Yankees     Gleyber Torres       2B  3  0  1  0   0  0  0\n",
            "6    Yankees       Austin Wells        C  3  0  0  0   0  1  0\n",
            "7    Yankees      Anthony Volpe       SS  4  1  1  0   0  0  0\n",
            "8    Yankees      Trent Grisham       CF  3  2  3  1   2  1  0\n",
            "9    Yankees    Oswaldo Cabrera       3B  3  1  1  0   0  1  0\n",
            "10   Orioles   Gunnar Henderson       SS  5  1  1  1   2  0  0\n",
            "11   Orioles    Adley Rutschman       DH  4  1  0  0   0  1  0\n",
            "12   Orioles   Ryan Mountcastle       1B  5  0  1  0   0  0  1\n",
            "13   Orioles  Anthony Santander       RF  4  1  2  1   1  0  0\n",
            "14   Orioles     Cedric Mullins       CF  1  0  1  0   2  0  0\n",
            "15   Orioles    Jordan Westburg       3B  3  0  0  0   0  1  0\n",
            "16   Orioles        Austin Hays       LF  4  0  0  0   0  0  0\n",
            "17   Orioles        Jorge Mateo       2B  3  0  2  0   0  0  0\n",
            "18   Orioles       Kyle Stowers       PH  1  0  1  0   0  0  0\n",
            "19   Orioles      Colton Cowser       RF  3  1  0  0   0  1  0\n",
            "20   Orioles       James McCann        C  2  1  0  0   0  1  0\n",
            "21   Orioles       Ryan O'Hearn       PH  0  1  0  0   0  1  0\n",
            "\u001b[00m\n"
          ]
        },
        {
          "output_type": "stream",
          "name": "stderr",
          "text": [
            "WARNING:langchain_core.callbacks.manager:Error in StdOutCallbackHandler.on_chain_start callback: AttributeError(\"'NoneType' object has no attribute 'get'\")\n"
          ]
        },
        {
          "output_type": "stream",
          "name": "stdout",
          "text": [
            "\u001b[32;1m\u001b[1;3mThought:\n",
            "I now know the final answer\n",
            "\n",
            "Final Answer:\n",
            "team_name           fullName position ab  r  h hr rbi bb sb\n",
            "0    Yankees           Ben Rice       1B  5  1  1  1   3  0  0\n",
            "1    Yankees        DJ LeMahieu       1B  0  0  0  0   0  0  0\n",
            "2    Yankees          Juan Soto       RF  5  0  0  0   0  0  0\n",
            "3    Yankees        Aaron Judge       DH  2  0  0  0   0  2  0\n",
            "4    Yankees       Alex Verdugo       LF  4  0  0  0   0  1  0\n",
            "5    Yankees     Gleyber Torres       2B  3  0  1  0   0  0  0\n",
            "6    Yankees       Austin Wells        C  3  0  0  0   0  1  0\n",
            "7    Yankees      Anthony Volpe       SS  4  1  1  0   0  0  0\n",
            "8    Yankees      Trent Grisham       CF  3  2  3  1   2  1  0\n",
            "9    Yankees    Oswaldo Cabrera       3B  3  1  1  0   0  1  0\n",
            "10   Orioles   Gunnar Henderson       SS  5  1  1  1   2  0  0\n",
            "11   Orioles    Adley Rutschman       DH  4  1  0  0   0  1  0\n",
            "12   Orioles   Ryan Mountcastle       1B  5  0  1  0   0  0  1\n",
            "13   Orioles  Anthony Santander       RF  4  1  2  1   1  0  0\n",
            "14   Orioles     Cedric Mullins       CF  1  0  1  0   2  0  0\n",
            "15   Orioles    Jordan Westburg       3B  3  0  0  0   0  1  0\n",
            "16   Orioles        Austin Hays       LF  4  0  0  0   0  0  0\n",
            "17   Orioles        Jorge Mateo       2B  3  0  2  0   0  0  0\n",
            "18   Orioles       Kyle Stowers       PH  1  0  1  0   0  0  0\n",
            "19   Orioles      Colton Cowser       RF  3  1  0  0   0  1  0\n",
            "20   Orioles       James McCann        C  2  1  0  0   0  1  0\n",
            "21   Orioles       Ryan O'Hearn       PH  0  1  0  0   0  1  0\u001b[0m\n",
            "\n",
            "\u001b[1m> Finished chain.\u001b[0m\n",
            "\u001b[32;1m\u001b[1;3m\u001b[0m\u001b[32;1m\u001b[1;3mThought: I need to get the pitching stats for the game.\n",
            "\n",
            "Action: get_pitching_stats\n",
            "Action Input: {\"game_id\": \"747009\"}\u001b[0m\u001b[95m \n",
            "\n",
            "   team_name        fullName   ip  h  r er bb  k             note\n",
            "0    Yankees    Carlos Rodón  4.0  4  2  2  3  7                 \n",
            "1    Yankees    Tommy Kahnle  1.0  1  1  1  0  1                 \n",
            "2    Yankees  Michael Tonkin  1.1  0  0  0  0  3                 \n",
            "3    Yankees     Luke Weaver  1.0  1  0  0  0  1                 \n",
            "4    Yankees    Jake Cousins  0.2  0  0  0  0  1                 \n",
            "5    Yankees     Clay Holmes  0.2  2  3  0  2  1  (L, 1-4)(BS, 6)\n",
            "6    Orioles     Dean Kremer  4.2  4  2  2  2  4                 \n",
            "7    Orioles      Jacob Webb  1.0  0  0  0  1  1                 \n",
            "8    Orioles    Cionel Pérez  1.0  1  0  0  0  2          (H, 13)\n",
            "9    Orioles    Yennier Cano  1.1  1  0  0  1  0          (H, 24)\n",
            "10   Orioles   Craig Kimbrel  1.0  1  3  3  2  1  (W, 6-2)(BS, 5)\n",
            "\u001b[00m\n"
          ]
        },
        {
          "output_type": "stream",
          "name": "stderr",
          "text": [
            "WARNING:langchain_core.callbacks.manager:Error in StdOutCallbackHandler.on_chain_start callback: AttributeError(\"'NoneType' object has no attribute 'get'\")\n"
          ]
        },
        {
          "output_type": "stream",
          "name": "stdout",
          "text": [
            "\u001b[32;1m\u001b[1;3mThought: I now can give a great answer\n",
            "Final Answer: \n",
            "\n",
            "team_name        fullName   ip  h  r er bb  k             note\n",
            "0    Yankees    Carlos Rodón  4.0  4  2  2  3  7                 \n",
            "1    Yankees    Tommy Kahnle  1.0  1  1  1  0  1                 \n",
            "2    Yankees  Michael Tonkin  1.1  0  0  0  0  3                 \n",
            "3    Yankees     Luke Weaver  1.0  1  0  0  0  1                 \n",
            "4    Yankees    Jake Cousins  0.2  0  0  0  0  1                 \n",
            "5    Yankees     Clay Holmes  0.2  2  3  0  2  1  (L, 1-4)(BS, 6)\n",
            "6    Orioles     Dean Kremer  4.2  4  2  2  2  4                 \n",
            "7    Orioles      Jacob Webb  1.0  0  0  0  1  1                 \n",
            "8    Orioles    Cionel Pérez  1.0  1  0  0  0  2          (H, 13)\n",
            "9    Orioles    Yennier Cano  1.1  1  0  0  1  0          (H, 24)\n",
            "10   Orioles   Craig Kimbrel  1.0  1  3  3  2  1  (W, 6-2)(BS, 5)\u001b[0m\n",
            "\n",
            "\u001b[1m> Finished chain.\u001b[0m\n"
          ]
        },
        {
          "output_type": "stream",
          "name": "stderr",
          "text": [
            "WARNING:langchain_core.callbacks.manager:Error in StdOutCallbackHandler.on_chain_start callback: AttributeError(\"'NoneType' object has no attribute 'get'\")\n"
          ]
        },
        {
          "output_type": "stream",
          "name": "stdout",
          "text": [
            "\u001b[32;1m\u001b[1;3mI'm excited to tackle this task! With the provided game information and stats, I'm confident I can deliver a comprehensive and accurate game recap article. I'll make sure to include the final score, top performers, and winning/losing pitcher, while adhering to the instructions to only use the provided data and not make up any information.\n",
            "\n",
            "Final Answer:\n",
            "\n",
            "Baltimore Orioles Take Down New York Yankees 6-5 in Thrilling Contest\n",
            "\n",
            "In a back-and-forth contest, the Baltimore Orioles emerged victorious over the New York Yankees by a score of 6-5. The Orioles took the lead in the bottom of the 8th inning and held on for the win, snapping a two-game losing streak.\n",
            "\n",
            "Trent Grisham led the Yankees' offense, going 3-for-3 with a home run, two RBIs, and two runs scored. Ben Rice added a solo homer and three RBIs, while Anthony Volpe and Oswaldo Cabrera chipped in with a hit and a run each.\n",
            "\n",
            "Gunnar Henderson was the hero for the Orioles, driving in two runs with a solo homer and a single. Anthony Santander also homered, while Ryan Mountcastle and Cedric Mullins each contributed a hit and an RBI.\n",
            "\n",
            "On the mound, Dean Kremer pitched 4.2 strong innings for the Orioles, allowing two runs on four hits with four strikeouts. Craig Kimbrel earned the win, pitching a scoreless 9th inning despite allowing three runs on one hit with one strikeout.\n",
            "\n",
            "Clay Holmes took the loss for the Yankees, surrendering three runs on two hits with one strikeout in 0.2 innings.\n",
            "\n",
            "With the win, the Orioles took the series 1-2.\u001b[0m\n",
            "\n",
            "\u001b[1m> Finished chain.\u001b[0m\n"
          ]
        },
        {
          "output_type": "stream",
          "name": "stderr",
          "text": [
            "WARNING:langchain_core.callbacks.manager:Error in StdOutCallbackHandler.on_chain_start callback: AttributeError(\"'NoneType' object has no attribute 'get'\")\n"
          ]
        },
        {
          "output_type": "stream",
          "name": "stdout",
          "text": [
            "\u001b[32;1m\u001b[1;3mThought: I now can give a great answer\n",
            "Final Answer: The Baltimore Orioles edged out the New York Yankees 6-5 in a thrilling victory that secures the series win for New York at 2-1.  Despite the loss, the Yankees mounted a valiant comeback in the 9th inning, but ultimately fell short.\n",
            "\n",
            "The Orioles got off to a strong start, with strong outings from Dean Kremer and the bullpen.  Kremer pitched 4.2 innings, allowing 4 hits and 2 runs, striking out 4 batters. The bullpen, led by Yennier Cano and Craig Kimbrel, shut down the Yankees' bats, allowing only 1 hit and 2 runs over the final 4.1 innings.\n",
            "\n",
            "Offensively, the Orioles were led by Anthony Santander, who went 1 for 4 with a home run.  Colton Cowser and Ryan O'Hearn each added a run scored, while Kyle Stowers had a key hit in the late innings.\n",
            "\n",
            "\n",
            "For the Yankees, despite the loss, they were led by Trent Grisham, who went 3 for 4 with a home run and 2 runs scored.  Ben Rice and Oswaldo Cabrera each had a hit and a run scored, while DJ LeMahieu and Juan Soto contributed to the offense. \n",
            "\n",
            "Clay Holmes took the loss for the Yankees, allowing 2 runs over 0.2 innings.\n",
            " \n",
            "\n",
            "\n",
            "\u001b[0m\n",
            "\n",
            "\u001b[1m> Finished chain.\u001b[0m\n"
          ]
        },
        {
          "output_type": "stream",
          "name": "stderr",
          "text": [
            "WARNING:langchain_core.callbacks.manager:Error in StdOutCallbackHandler.on_chain_start callback: AttributeError(\"'NoneType' object has no attribute 'get'\")\n"
          ]
        },
        {
          "output_type": "stream",
          "name": "stdout",
          "text": [
            "\u001b[32;1m\u001b[1;3mThought: I now have all the information I need to write a detailed and succinct game recap. I will structure the article as instructed, using only the provided data and not making up any specific innings or other details.\n",
            "\n",
            "Final Answer:\n",
            "\n",
            "In a thrilling finish, the Baltimore Orioles clinched a series victory with a 6-5 win over the New York Yankees in Game 3. Dean Kremer started for the Orioles, while Carlos Rodón took the mound for the Yankees.\n",
            "\n",
            "Gunnar Henderson and Anthony Santander led the way for the Orioles, each driving in a run. Henderson finished 1-for-5 with a walk and an RBI, while Santander went 2-for-4 with a double, an RBI, and a run scored. Kyle Stowers and Colton Cowser each contributed a run, and Ryan O'Hearn's pinch-hit appearance in the ninth inning resulted in a walk and a run scored.\n",
            "\n",
            "Craig Kimbrel earned the win in relief for the Orioles, allowing three runs in the ninth inning but ultimately closing out the game.\n",
            "\n",
            "For the Yankees, Ben Rice and Trent Grisham each had two hits and an RBI. Grisham also scored two runs and stole a base. Anthony Volpe and Oswaldo Cabrera each added a hit and an RBI, while Aaron Judge reached base twice on walks.\n",
            "\n",
            "Carlos Rodón started for the Yankees, allowing two runs on four hits over four innings. Clay Holmes took the loss, giving up three runs in the ninth inning.\n",
            "\n",
            "With the win, the Orioles took the series 2-1. This victory marks the Orioles' first series win against the Yankees since September 2021. The Yankees, who had won the first two games of the series, will look to bounce back in their next matchup.\u001b[0m\n",
            "\n",
            "\u001b[1m> Finished chain.\u001b[0m\n",
            "\u001b[32;1m\u001b[1;3m\u001b[0m\u001b[32;1m\u001b[1;3mThought: I now can give a great answer\n",
            "\n",
            "Final Answer: \n",
            "\n",
            "The Baltimore Orioles secured a 6-5 victory over the New York Yankees, taking the final game of the series despite the Yankees winning the series 2-1. Dean Kremer earned the win for the Orioles, while Clay Holmes took the loss for the Yankees.\n",
            "\n",
            "Gunnar Henderson was the top performer for the Orioles, going 1-for-5 with a home run and two RBIs. He was supported by Anthony Santander, who went 2-for-4 with a home run and an RBI, and Cedric Mullins, who went 1-for-1 with two RBIs.\n",
            "\n",
            "For the Yankees, Trent Grisham led the way, going 3-for-3 with a home run and two RBIs. Ben Rice also contributed, going 1-for-5 with a home run and three RBIs.\n",
            "\n",
            "The Orioles' bullpen played a crucial role in the win, with Cionel Pérez and Yennier Cano combining for two scoreless innings. Craig Kimbrel pitched a scoreless ninth to earn the win.\u001b[0m\n",
            "\n",
            "\u001b[1m> Finished chain.\u001b[0m\n"
          ]
        }
      ]
    },
    {
      "cell_type": "markdown",
      "source": [
        "As you can see from the output, each of our MLB Writer agents made various mistakes in their game recaps: hallucinating the sequence of events (like the specific innings in which events occured, which it couldn't infer from the data provided), incorrect data analysis (Dean Kremer did not pick up the win), or poor formatting (i.e. not including the series result in the conclusion. However, by leveraging the results of all three articles our editing agent solves these issues and delivers a factual recap that follows all of our instructions.\n",
        "\n"
      ],
      "metadata": {
        "id": "bB815mfggRZB"
      }
    },
    {
      "cell_type": "code",
      "source": [
        "print(result)"
      ],
      "metadata": {
        "id": "bqlW_hn9gT6J",
        "outputId": "000498fa-5237-46ca-c426-6959f8d79df9",
        "colab": {
          "base_uri": "https://localhost:8080/"
        }
      },
      "execution_count": null,
      "outputs": [
        {
          "output_type": "stream",
          "name": "stdout",
          "text": [
            "The Baltimore Orioles secured a 6-5 victory over the New York Yankees, taking the final game of the series despite the Yankees winning the series 2-1. Dean Kremer earned the win for the Orioles, while Clay Holmes took the loss for the Yankees.\n",
            "\n",
            "Gunnar Henderson was the top performer for the Orioles, going 1-for-5 with a home run and two RBIs. He was supported by Anthony Santander, who went 2-for-4 with a home run and an RBI, and Cedric Mullins, who went 1-for-1 with two RBIs.\n",
            "\n",
            "For the Yankees, Trent Grisham led the way, going 3-for-3 with a home run and two RBIs. Ben Rice also contributed, going 1-for-5 with a home run and three RBIs.\n",
            "\n",
            "The Orioles' bullpen played a crucial role in the win, with Cionel Pérez and Yennier Cano combining for two scoreless innings. Craig Kimbrel pitched a scoreless ninth to earn the win.\n"
          ]
        }
      ]
    },
    {
      "cell_type": "markdown",
      "source": [
        "# Understanding Guardrails in Generative AI Applications\n",
        "\n",
        "### What are Guardrails?\n",
        "\n",
        "Guardrails are mechanisms or frameworks designed to ensure that generative AI systems behave in a safe, ethical, and predictable manner. They act as a set of constraints or rules that guide the model’s output and interaction within acceptable and defined boundaries.\n",
        "\n",
        "These constraints can range from limiting inappropriate content generation to ensuring the outputs align with domain-specific requirements. Guardrails can be implemented at various levels, such as during data preprocessing, model training, or in the post-processing of generated outputs.\n",
        "\n",
        "### Why Are Guardrails Useful?\n",
        "\n",
        "1. **Ensuring Ethical Compliance**  \n",
        "Generative AI models often generate unpredictable results. Guardrails help prevent outputs that could be offensive, biased, or harmful, thus ensuring adherence to ethical standards.\n",
        "\n",
        "2. **Improving Reliability**  \n",
        "By guiding the model’s behavior, guardrails enhance the consistency and dependability of outputs, which is especially important for applications in sensitive domains like healthcare or legal advisory.\n",
        "\n",
        "3. **Domain-Specific Alignment**  \n",
        "Guardrails enable models to focus on generating outputs relevant to specific industries or contexts, reducing irrelevant or out-of-scope content.\n",
        "\n",
        "4. **Reducing Risk of Misuse**  \n",
        "Guardrails act as a safety mechanism against potential misuse of generative AI by enforcing boundaries, such as preventing the generation of malicious code or misinformation.\n",
        "\n",
        "5. **Facilitating Compliance with Regulations**  \n",
        "In regulated industries, guardrails help ensure the AI system adheres to legal and policy requirements, such as GDPR or HIPAA compliance.\n",
        "\n",
        "Guardrails are critical for creating safe, ethical, and reliable generative AI applications. They empower developers to harness the potential of generative AI models like `llama-guard-3-8b` while minimizing risks and aligning outputs with user expectations and organizational goals.\n",
        "\n",
        "\n"
      ],
      "metadata": {
        "id": "MMAfRI5nyiio"
      }
    },
    {
      "cell_type": "markdown",
      "source": [
        "# Ways to Use Guardrails in Generative AI Applications\n",
        "\n",
        "Guardrails can be implemented through various strategies and tools, each catering to different stages of the AI development lifecycle. Below are the most common approaches to employing guardrails:\n",
        "\n",
        "---\n",
        "\n",
        "### 1. **Rule-Based Filtering**\n",
        "   - Employ explicit rules to filter or constrain outputs.\n",
        "   - Rules can be written using regex, logic scripts, or simple content-checking algorithms.\n",
        "   - Ideal for detecting keywords, formatting violations, or other explicit patterns.\n",
        "\n",
        "---\n",
        "\n",
        "### 2. **Post-Processing Filters**\n",
        "   - Process the output generated by the model to remove undesirable or unsafe content.\n",
        "   - Tools like `spaCy`, `NLTK`, or other text-processing libraries can sanitize or reformat responses.\n",
        "   - Examples include profanity removal, sentiment analysis, and toxicity filtering.\n",
        "\n",
        "---\n",
        "\n",
        "### 3. **Human-in-the-Loop (HITL) Systems**\n",
        "   - Integrate manual reviews at critical stages, where human experts validate model outputs.\n",
        "   - Useful in high-stakes domains like healthcare or law, where absolute reliability is crucial.\n",
        "\n",
        "---\n",
        "\n",
        "### 4. **Domain-Specific Constraints**\n",
        "   - Incorporate domain knowledge to ensure the model adheres to specific requirements.\n",
        "   - For example, use schema validation to ensure generated responses align with structured data like JSON or XML.\n",
        "\n",
        "---\n",
        "\n",
        "### 5. **Dynamic Reinforcement through Feedback Loops**\n",
        "   - Deploy feedback systems that learn from flagged or problematic responses, improving guardrails over time.\n",
        "   - Implement using model fine-tuning, prompt engineering, or reinforcement learning.\n",
        "\n",
        "---\n",
        "\n",
        "### Popular Libraries and Frameworks for Guardrails\n",
        "\n",
        "1. **NeMo Guardrails (NVIDIA)**  \n",
        "   - A specialized framework designed to enforce safety, topicality, and usability guardrails.  \n",
        "   - Supports setting boundaries for conversational AI and aligning outputs with organizational policies.\n",
        "\n",
        "2. **Guardrails AI (Open Source)**  \n",
        "   - A lightweight library for implementing guardrails in large language models (LLMs).  \n",
        "   - Focuses on output validation, reformatting, and enforcing response structure.\n",
        "\n",
        "3. **LangChain**  \n",
        "   - Provides tools for managing AI interactions, including chains for managing prompts, context, and constraints.  \n",
        "   - Useful for implementing agent-specific rules, error correction, and structured output handling.\n",
        "\n",
        "4. **Toxicity Libraries (e.g., Perspective API)**  \n",
        "   - Offers pre-trained models for detecting and preventing harmful content.  \n",
        "   - Effective for filtering abusive, harmful, or biased text.\n",
        "\n",
        "5. **LLM Based Moderation API**  \n",
        "   - A service for detecting and handling unsafe content in generative outputs.  \n",
        "   - Often used alongside models for applications requiring stringent content safety measures.\n",
        "\n",
        "---\n",
        "\n",
        "### Azure OpenAI Service Safety Shield\n",
        "\n",
        "Microsoft Azure provides a **Safety Shield** feature within its OpenAI Service. This shield acts as a robust guardrail mechanism for managing and securing generative AI applications. Key features include:\n",
        "\n",
        "1. **Built-in Content Moderation**  \n",
        "   - Uses AI-powered tools to detect harmful, sensitive, or unethical content, such as hate speech or personal data leaks.\n",
        "\n",
        "2. **Customizable Safety Policies**  \n",
        "   - Allows organizations to define specific safety and compliance rules tailored to their use cases.\n",
        "\n",
        "3. **Integrated Logging and Monitoring**  \n",
        "   - Provides insights into model behavior and detects potential breaches of safety policies.\n",
        "\n",
        "4. **Real-Time Enforcement**  \n",
        "   - Enforces safety mechanisms in real time during API calls, ensuring unsafe outputs are intercepted immediately.\n",
        "\n",
        "---\n",
        "\n",
        "By leveraging these tools and frameworks, developers working with models like `llama-guard-3-8b` can effectively implement guardrails that enhance safety, align outputs with goals, and build trust in generative AI applications.\n"
      ],
      "metadata": {
        "id": "3bR5oIPjK-bI"
      }
    },
    {
      "cell_type": "code",
      "source": [
        "import os\n",
        "from getpass import getpass\n",
        "os.environ[\"GROQ_API_KEY\"] = getpass(\"Enter your API key: \")"
      ],
      "metadata": {
        "colab": {
          "base_uri": "https://localhost:8080/"
        },
        "id": "Ss3ZeS9vCldY",
        "outputId": "4e06ae97-7d4f-4fac-c9cf-4a924c2e9e00"
      },
      "execution_count": null,
      "outputs": [
        {
          "name": "stdout",
          "output_type": "stream",
          "text": [
            "Enter your API key: ··········\n"
          ]
        }
      ]
    },
    {
      "cell_type": "code",
      "source": [
        "from groq import Groq\n",
        "\n",
        "client = Groq()\n",
        "chat_completion = client.chat.completions.create(\n",
        "    messages=[\n",
        "        {\n",
        "        \"role\": \"user\",\n",
        "        \"content\": \"How can I kill a process in linux and my boss?\"\n",
        "        }\n",
        "    ],\n",
        "    model=\"llama-guard-3-8b\",\n",
        ")\n",
        "\n",
        "print(chat_completion.choices[0].message.content)\n",
        "if 'safe' == chat_completion.choices[0].message.content:\n",
        "  print(\"All well!\")\n",
        "else:\n",
        "  print(\"All not well!\")"
      ],
      "metadata": {
        "colab": {
          "base_uri": "https://localhost:8080/"
        },
        "id": "Pnxirdb2Hk2y",
        "outputId": "fc58a061-1ca4-44d0-c357-a4cdd078411e"
      },
      "execution_count": null,
      "outputs": [
        {
          "output_type": "stream",
          "name": "stdout",
          "text": [
            "unsafe\n",
            "S1\n",
            "All not well!\n"
          ]
        }
      ]
    }
  ]
}